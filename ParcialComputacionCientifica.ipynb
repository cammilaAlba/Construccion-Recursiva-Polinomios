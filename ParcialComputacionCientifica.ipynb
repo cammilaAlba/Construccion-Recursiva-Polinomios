{
  "nbformat": 4,
  "nbformat_minor": 0,
  "metadata": {
    "colab": {
      "name": "ParcialComputacionCientifica.ipynb",
      "provenance": [],
      "authorship_tag": "ABX9TyM+Z+O8zzP93DW7NwLKjlYQ",
      "include_colab_link": true
    },
    "kernelspec": {
      "name": "python3",
      "display_name": "Python 3"
    },
    "language_info": {
      "name": "python"
    }
  },
  "cells": [
    {
      "cell_type": "markdown",
      "metadata": {
        "id": "view-in-github",
        "colab_type": "text"
      },
      "source": [
        "<a href=\"https://colab.research.google.com/github/cammilaAlba/Construccion-Recursiva-Polinomios/blob/main/ParcialComputacionCientifica.ipynb\" target=\"_parent\"><img src=\"https://colab.research.google.com/assets/colab-badge.svg\" alt=\"Open In Colab\"/></a>"
      ]
    },
    {
      "cell_type": "markdown",
      "metadata": {
        "id": "AvDZcToL-t1_"
      },
      "source": [
        "# Construccion-Recursiva-Polinomios\n",
        "$$ p_1(x) = x-2$$\n",
        "$$p_2(x) = x^2 +xy $$\n",
        "$$p_n(x) = p_{n-1}(\\frac{x}{2})-x*p_{n-2}(\\frac{x}{4})$$"
      ]
    },
    {
      "cell_type": "code",
      "metadata": {
        "id": "2d0O5VKO7foa"
      },
      "source": [
        "import sympy as sp\n",
        "import matplotlib.pyplot as plt"
      ],
      "execution_count": 4,
      "outputs": []
    },
    {
      "cell_type": "code",
      "metadata": {
        "id": "iszA2osZ9dLs"
      },
      "source": [
        "x = sp.symbols(\"x\")\n",
        "y = sp.symbols(\"y\")"
      ],
      "execution_count": 6,
      "outputs": []
    },
    {
      "cell_type": "code",
      "metadata": {
        "id": "s0S7fP4_Dcbf"
      },
      "source": [
        "p_1 = x -2\n",
        "p_2 = x**2 + x*y\n",
        "n = 50"
      ],
      "execution_count": 26,
      "outputs": []
    },
    {
      "cell_type": "code",
      "metadata": {
        "id": "vCFAuOJ1DkdV"
      },
      "source": [
        ""
      ],
      "execution_count": 33,
      "outputs": []
    },
    {
      "cell_type": "code",
      "metadata": {
        "colab": {
          "base_uri": "https://localhost:8080/"
        },
        "id": "1aPieI2FDzAX",
        "outputId": "2c0f2503-b84f-467a-bc69-49561333395f"
      },
      "source": [
        "p_n"
      ],
      "execution_count": 34,
      "outputs": [
        {
          "output_type": "execute_result",
          "data": {
            "text/plain": [
              "0"
            ]
          },
          "metadata": {},
          "execution_count": 34
        }
      ]
    },
    {
      "cell_type": "code",
      "metadata": {
        "id": "wleVGZGvDz-P"
      },
      "source": [
        ""
      ],
      "execution_count": null,
      "outputs": []
    }
  ]
}
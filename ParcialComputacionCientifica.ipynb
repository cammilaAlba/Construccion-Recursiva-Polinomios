{
  "nbformat": 4,
  "nbformat_minor": 0,
  "metadata": {
    "colab": {
      "name": "ParcialComputacionCientifica.ipynb",
      "provenance": [],
      "authorship_tag": "ABX9TyO9At3TOQXHGwIE5PwUyRBF",
      "include_colab_link": true
    },
    "kernelspec": {
      "name": "python3",
      "display_name": "Python 3"
    },
    "language_info": {
      "name": "python"
    }
  },
  "cells": [
    {
      "cell_type": "markdown",
      "metadata": {
        "id": "view-in-github",
        "colab_type": "text"
      },
      "source": [
        "<a href=\"https://colab.research.google.com/github/cammilaAlba/Construccion-Recursiva-Polinomios/blob/main/ParcialComputacionCientifica.ipynb\" target=\"_parent\"><img src=\"https://colab.research.google.com/assets/colab-badge.svg\" alt=\"Open In Colab\"/></a>"
      ]
    },
    {
      "cell_type": "markdown",
      "metadata": {
        "id": "AvDZcToL-t1_"
      },
      "source": [
        "# Construccion-Recursiva-Polinomios\n",
        "$$ p_1(x) = x-2$$\n",
        "$$p_2(x) = x^2 +xy $$\n",
        "$$p_n(x) = p_{n-1}(\\frac{x}{2})-x*p_{n-2}(\\frac{x}{4})$$"
      ]
    },
    {
      "cell_type": "code",
      "metadata": {
        "id": "2d0O5VKO7foa"
      },
      "source": [
        "import sympy as sp\n"
      ],
      "execution_count": 2,
      "outputs": []
    },
    {
      "cell_type": "code",
      "metadata": {
        "id": "iszA2osZ9dLs"
      },
      "source": [
        ""
      ],
      "execution_count": null,
      "outputs": []
    }
  ]
}
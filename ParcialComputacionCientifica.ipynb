{
  "nbformat": 4,
  "nbformat_minor": 0,
  "metadata": {
    "colab": {
      "name": "ParcialComputacionCientifica.ipynb",
      "provenance": [],
      "authorship_tag": "ABX9TyMHWPXL/ZBciGsl1a5Qs7ni",
      "include_colab_link": true
    },
    "kernelspec": {
      "name": "python3",
      "display_name": "Python 3"
    },
    "language_info": {
      "name": "python"
    }
  },
  "cells": [
    {
      "cell_type": "markdown",
      "metadata": {
        "id": "view-in-github",
        "colab_type": "text"
      },
      "source": [
        "<a href=\"https://colab.research.google.com/github/cammilaAlba/Construccion-Recursiva-Polinomios/blob/main/ParcialComputacionCientifica.ipynb\" target=\"_parent\"><img src=\"https://colab.research.google.com/assets/colab-badge.svg\" alt=\"Open In Colab\"/></a>"
      ]
    },
    {
      "cell_type": "markdown",
      "metadata": {
        "id": "AvDZcToL-t1_"
      },
      "source": [
        "# Construccion-Recursiva-Polinomios\n",
        "$$ p_1(x) = x-2$$\n",
        "$$p_2(x) = x^2 +xy $$\n",
        "$$p_n(x) = p_{n-1}(\\frac{x}{2})-x*p_{n-2}(\\frac{x}{4})$$"
      ]
    },
    {
      "cell_type": "code",
      "metadata": {
        "id": "2d0O5VKO7foa"
      },
      "source": [
        "import sympy as sp\n",
        "import matplotlib.pyplot as plt"
      ],
      "execution_count": 50,
      "outputs": []
    },
    {
      "cell_type": "code",
      "metadata": {
        "id": "iszA2osZ9dLs"
      },
      "source": [
        "x = sp.symbols(\"x\")\n",
        "y = sp.symbols(\"y\")"
      ],
      "execution_count": 51,
      "outputs": []
    },
    {
      "cell_type": "code",
      "metadata": {
        "id": "s0S7fP4_Dcbf"
      },
      "source": [
        "p_1 = x -2\n",
        "p_2 = x**2 + x*y\n",
        "n = 3"
      ],
      "execution_count": 52,
      "outputs": []
    },
    {
      "cell_type": "code",
      "metadata": {
        "id": "vCFAuOJ1DkdV"
      },
      "source": [
        "def polinomio(n):\n",
        "  if n == 3:\n",
        "    return p_2 * (x/2) - x * p_1*(x/4)\n"
      ],
      "execution_count": 53,
      "outputs": []
    },
    {
      "cell_type": "code",
      "metadata": {
        "id": "1aPieI2FDzAX"
      },
      "source": [
        ""
      ],
      "execution_count": 53,
      "outputs": []
    },
    {
      "cell_type": "code",
      "metadata": {
        "id": "wleVGZGvDz-P"
      },
      "source": [
        ""
      ],
      "execution_count": 53,
      "outputs": []
    }
  ]
}